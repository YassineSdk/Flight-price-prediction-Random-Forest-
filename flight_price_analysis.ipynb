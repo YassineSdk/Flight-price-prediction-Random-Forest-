{
 "cells": [
  {
   "cell_type": "markdown",
   "metadata": {},
   "source": [
    "---\n",
    "# **Flight Price Aanalysis Prediction**\n"
   ]
  },
  {
   "cell_type": "markdown",
   "metadata": {},
   "source": [
    "---\n",
    "#### **data description :**\n",
    "---\n",
    "``Airline`` - The name of the airline is stored in the \"Airline\" column. This is a categorical feature inherent in 6 different airlines.\n",
    "\n",
    "``Flight`` - stores information about the flight code of the aircraft. This is a categorical feature.\n",
    "\n",
    "``Source City`` - The city from which the flight departs. This is a categorical feature that has 6 unique cities.\n",
    "\n",
    "``Departure Time`` - Departure time. This is a derived categorical feature obtained by grouping time periods by cells.\n",
    "\n",
    "``Stops`` - The number of stops between the cities of departure and destination. Categorical attribute with 3 different values\n",
    "\n",
    "``Arrival Time`` - Arrival time. This is a derived categorical feature created by grouping time intervals by cells. It has six different timestamps.\n",
    "\n",
    "``Destination City`` - The city where the flight will land. This is a categorical feature that has 6 unique cities.\n",
    "\n",
    "``Class`` - Passenger class; it has two different meanings: Business and Economy.\n",
    "\n",
    "``Duration`` - The total amount of time spent on a trip between cities in hours.\n",
    "\n",
    "``Days Left`` - Subtracting the travel date from the booking date. That is, for how many days was the ticket booked\n",
    "\n",
    "``Price`` - Ticket price (Target variable)\n",
    "\n",
    "---"
   ]
  }
 ],
 "metadata": {
  "kernelspec": {
   "display_name": "env_1-",
   "language": "python",
   "name": "python3"
  },
  "language_info": {
   "codemirror_mode": {
    "name": "ipython",
    "version": 3
   },
   "file_extension": ".py",
   "mimetype": "text/x-python",
   "name": "python",
   "nbconvert_exporter": "python",
   "pygments_lexer": "ipython3",
   "version": "3.11.10"
  }
 },
 "nbformat": 4,
 "nbformat_minor": 2
}
